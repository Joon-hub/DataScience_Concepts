{
  "nbformat": 4,
  "nbformat_minor": 0,
  "metadata": {
    "colab": {
      "provenance": [],
      "toc_visible": true,
      "authorship_tag": "ABX9TyNyugfNsljI8K6Db0F8ljgj",
      "include_colab_link": true
    },
    "kernelspec": {
      "name": "python3",
      "display_name": "Python 3"
    },
    "language_info": {
      "name": "python"
    }
  },
  "cells": [
    {
      "cell_type": "markdown",
      "metadata": {
        "id": "view-in-github",
        "colab_type": "text"
      },
      "source": [
        "<a href=\"https://colab.research.google.com/github/Joon-hub/DataScience_Concepts/blob/main/numpy_practice.ipynb\" target=\"_parent\"><img src=\"https://colab.research.google.com/assets/colab-badge.svg\" alt=\"Open In Colab\"/></a>"
      ]
    },
    {
      "cell_type": "code",
      "execution_count": null,
      "metadata": {
        "id": "K2LIi0Cjovgf"
      },
      "outputs": [],
      "source": [
        "import numpy as np"
      ]
    },
    {
      "cell_type": "markdown",
      "source": [
        "### Basic Array Creation and Manipulation"
      ],
      "metadata": {
        "id": "SSiJratwq8_o"
      }
    },
    {
      "cell_type": "markdown",
      "source": [
        "1. Array Creation: Create a 1D NumPy array containing integers from 1 to 20. Then, reshape it into a 4x5 matrix."
      ],
      "metadata": {
        "id": "A7wOsUOip8bI"
      }
    },
    {
      "cell_type": "code",
      "source": [
        "a = np.arange(1,21)\n",
        "a.reshape(4,5)"
      ],
      "metadata": {
        "colab": {
          "base_uri": "https://localhost:8080/"
        },
        "id": "oGGr7vkLozqG",
        "outputId": "5ca230c0-c28e-4d93-d432-5ce5b28952e2"
      },
      "execution_count": null,
      "outputs": [
        {
          "output_type": "execute_result",
          "data": {
            "text/plain": [
              "array([[ 1,  2,  3,  4,  5],\n",
              "       [ 6,  7,  8,  9, 10],\n",
              "       [11, 12, 13, 14, 15],\n",
              "       [16, 17, 18, 19, 20]])"
            ]
          },
          "metadata": {},
          "execution_count": 5
        }
      ]
    },
    {
      "cell_type": "markdown",
      "source": [
        "2. Accessing Elements: Given a 3x3 matrix of random integers, extract the elements in the first two rows and last two columns."
      ],
      "metadata": {
        "id": "WNEFLdhMqAte"
      }
    },
    {
      "cell_type": "code",
      "source": [
        "a = np.arange(1,10).reshape(3,3)\n",
        "print(a)"
      ],
      "metadata": {
        "colab": {
          "base_uri": "https://localhost:8080/"
        },
        "id": "q1KXYvilo-nz",
        "outputId": "e2851f1f-9749-4486-dc48-4b13ec006da1"
      },
      "execution_count": null,
      "outputs": [
        {
          "output_type": "stream",
          "name": "stdout",
          "text": [
            "[[1 2 3]\n",
            " [4 5 6]\n",
            " [7 8 9]]\n"
          ]
        }
      ]
    },
    {
      "cell_type": "code",
      "source": [
        "a[0:2,1:3]"
      ],
      "metadata": {
        "colab": {
          "base_uri": "https://localhost:8080/"
        },
        "id": "ah4fgfJlpcLw",
        "outputId": "55247aaf-e0cc-4bf5-efa3-48e21f714161"
      },
      "execution_count": null,
      "outputs": [
        {
          "output_type": "execute_result",
          "data": {
            "text/plain": [
              "array([[2, 3],\n",
              "       [5, 6]])"
            ]
          },
          "metadata": {},
          "execution_count": 13
        }
      ]
    },
    {
      "cell_type": "markdown",
      "source": [
        "3. Array Broadcasting: Create a 3x3 matrix and add 1 to each element without using a loop.\n"
      ],
      "metadata": {
        "id": "xYyBkoPJqQVs"
      }
    },
    {
      "cell_type": "code",
      "source": [
        "a = np.arange(1,10).reshape(3,3)\n",
        "print(a)"
      ],
      "metadata": {
        "colab": {
          "base_uri": "https://localhost:8080/"
        },
        "id": "7TMkPCH4pp4z",
        "outputId": "50317bf2-7837-4bf9-8cb0-eb42211b6368"
      },
      "execution_count": null,
      "outputs": [
        {
          "output_type": "stream",
          "name": "stdout",
          "text": [
            "[[1 2 3]\n",
            " [4 5 6]\n",
            " [7 8 9]]\n"
          ]
        }
      ]
    },
    {
      "cell_type": "code",
      "source": [
        "a+1"
      ],
      "metadata": {
        "colab": {
          "base_uri": "https://localhost:8080/"
        },
        "id": "bTe5Ww_3qM2v",
        "outputId": "97fd6a20-d673-4062-9236-78df6b8ebcbe"
      },
      "execution_count": null,
      "outputs": [
        {
          "output_type": "execute_result",
          "data": {
            "text/plain": [
              "array([[ 2,  3,  4],\n",
              "       [ 5,  6,  7],\n",
              "       [ 8,  9, 10]])"
            ]
          },
          "metadata": {},
          "execution_count": 16
        }
      ]
    },
    {
      "cell_type": "markdown",
      "source": [
        "4. Boolean Masking: Create a 1D array of numbers from 1 to 10. Use Boolean masking to select only the even numbers."
      ],
      "metadata": {
        "id": "z-odyJLOqT7J"
      }
    },
    {
      "cell_type": "code",
      "source": [
        "a = np.arange(1,11)\n",
        "print(a)"
      ],
      "metadata": {
        "colab": {
          "base_uri": "https://localhost:8080/"
        },
        "id": "NtcLWSSjqN4F",
        "outputId": "ad5dbc65-5959-4f05-d77b-3b4b962965e1"
      },
      "execution_count": null,
      "outputs": [
        {
          "output_type": "stream",
          "name": "stdout",
          "text": [
            "[ 1  2  3  4  5  6  7  8  9 10]\n"
          ]
        }
      ]
    },
    {
      "cell_type": "code",
      "source": [
        "a[a%2 == 0]"
      ],
      "metadata": {
        "colab": {
          "base_uri": "https://localhost:8080/"
        },
        "id": "TegOcV4xqgyc",
        "outputId": "a563bcae-1719-4e64-b80b-b2ca52191d10"
      },
      "execution_count": null,
      "outputs": [
        {
          "output_type": "execute_result",
          "data": {
            "text/plain": [
              "array([ 2,  4,  6,  8, 10])"
            ]
          },
          "metadata": {},
          "execution_count": 22
        }
      ]
    },
    {
      "cell_type": "markdown",
      "source": [
        "### Mathematical Operations"
      ],
      "metadata": {
        "id": "7BUTTm1ErAao"
      }
    },
    {
      "cell_type": "markdown",
      "source": [
        "5. Basic Math Operations: Create two 3x3 matrices and perform element-wise addition, subtraction, multiplication, and division."
      ],
      "metadata": {
        "id": "c9_OpMbCrb0C"
      }
    },
    {
      "cell_type": "code",
      "source": [
        "a = np.arange(1,10).reshape(3,3)\n",
        "b = np.arange(11,20).reshape(3,3)\n",
        "print(a)\n",
        "print(b)"
      ],
      "metadata": {
        "colab": {
          "base_uri": "https://localhost:8080/"
        },
        "id": "Ix_g_rhWrf98",
        "outputId": "dae11a09-68d7-46fa-e5c4-1639f0ee92cc"
      },
      "execution_count": null,
      "outputs": [
        {
          "output_type": "stream",
          "name": "stdout",
          "text": [
            "[[1 2 3]\n",
            " [4 5 6]\n",
            " [7 8 9]]\n",
            "[[11 12 13]\n",
            " [14 15 16]\n",
            " [17 18 19]]\n"
          ]
        }
      ]
    },
    {
      "cell_type": "code",
      "source": [
        "a+b"
      ],
      "metadata": {
        "colab": {
          "base_uri": "https://localhost:8080/"
        },
        "id": "5l0MxD4jrimS",
        "outputId": "495bdaf8-a08d-4270-e5fc-875b72070a38"
      },
      "execution_count": null,
      "outputs": [
        {
          "output_type": "execute_result",
          "data": {
            "text/plain": [
              "array([[12, 14, 16],\n",
              "       [18, 20, 22],\n",
              "       [24, 26, 28]])"
            ]
          },
          "metadata": {},
          "execution_count": 24
        }
      ]
    },
    {
      "cell_type": "code",
      "source": [
        "a-b"
      ],
      "metadata": {
        "colab": {
          "base_uri": "https://localhost:8080/"
        },
        "id": "NJBt-aADrmCo",
        "outputId": "18968e09-b836-40bb-daea-3510a0fee2f2"
      },
      "execution_count": null,
      "outputs": [
        {
          "output_type": "execute_result",
          "data": {
            "text/plain": [
              "array([[-10, -10, -10],\n",
              "       [-10, -10, -10],\n",
              "       [-10, -10, -10]])"
            ]
          },
          "metadata": {},
          "execution_count": 25
        }
      ]
    },
    {
      "cell_type": "code",
      "source": [
        "a*b"
      ],
      "metadata": {
        "colab": {
          "base_uri": "https://localhost:8080/"
        },
        "id": "HAnCtiJJrof2",
        "outputId": "39a4a7fa-55aa-4819-c822-3e310a05245b"
      },
      "execution_count": null,
      "outputs": [
        {
          "output_type": "execute_result",
          "data": {
            "text/plain": [
              "array([[ 11,  24,  39],\n",
              "       [ 56,  75,  96],\n",
              "       [119, 144, 171]])"
            ]
          },
          "metadata": {},
          "execution_count": 26
        }
      ]
    },
    {
      "cell_type": "code",
      "source": [
        "a/b"
      ],
      "metadata": {
        "colab": {
          "base_uri": "https://localhost:8080/"
        },
        "id": "f3alHdLUrrFn",
        "outputId": "1b76ef6d-61c7-4ff8-c1cc-68662ca33042"
      },
      "execution_count": null,
      "outputs": [
        {
          "output_type": "execute_result",
          "data": {
            "text/plain": [
              "array([[0.09090909, 0.16666667, 0.23076923],\n",
              "       [0.28571429, 0.33333333, 0.375     ],\n",
              "       [0.41176471, 0.44444444, 0.47368421]])"
            ]
          },
          "metadata": {},
          "execution_count": 27
        }
      ]
    },
    {
      "cell_type": "markdown",
      "source": [
        "6. Dot Product: Given two 1D arrays a and b of size 3, compute their dot product using NumPy."
      ],
      "metadata": {
        "id": "5vd27UsHruGo"
      }
    },
    {
      "cell_type": "code",
      "source": [
        "a = np.random.randint(1,10,2)\n",
        "b = np.random.randint(1,10,2)\n",
        "print(a)\n",
        "print(b)"
      ],
      "metadata": {
        "colab": {
          "base_uri": "https://localhost:8080/"
        },
        "id": "CnUX3ghyrtaY",
        "outputId": "beb86b89-ef96-476c-a94f-82b83328d288"
      },
      "execution_count": null,
      "outputs": [
        {
          "output_type": "stream",
          "name": "stdout",
          "text": [
            "[7 4]\n",
            "[5 4]\n"
          ]
        }
      ]
    },
    {
      "cell_type": "code",
      "source": [
        "np.dot(a,b)"
      ],
      "metadata": {
        "colab": {
          "base_uri": "https://localhost:8080/"
        },
        "id": "85yWDBhLr4lU",
        "outputId": "7e3ae21f-aee0-4232-a5fb-035419a68182"
      },
      "execution_count": null,
      "outputs": [
        {
          "output_type": "execute_result",
          "data": {
            "text/plain": [
              "51"
            ]
          },
          "metadata": {},
          "execution_count": 33
        }
      ]
    },
    {
      "cell_type": "markdown",
      "source": [
        "7. Mean and Standard Deviation: Generate an array of 100 random values from a normal distribution. Calculate its mean and standard deviation.\n"
      ],
      "metadata": {
        "id": "meZS9rzRsGTD"
      }
    },
    {
      "cell_type": "code",
      "source": [
        "a = np.arange(1,101)\n",
        "a"
      ],
      "metadata": {
        "colab": {
          "base_uri": "https://localhost:8080/"
        },
        "id": "uLd-4nB-sIVg",
        "outputId": "fcb46c27-0a4f-425a-a336-2eabf9a1a6f6"
      },
      "execution_count": null,
      "outputs": [
        {
          "output_type": "execute_result",
          "data": {
            "text/plain": [
              "array([  1,   2,   3,   4,   5,   6,   7,   8,   9,  10,  11,  12,  13,\n",
              "        14,  15,  16,  17,  18,  19,  20,  21,  22,  23,  24,  25,  26,\n",
              "        27,  28,  29,  30,  31,  32,  33,  34,  35,  36,  37,  38,  39,\n",
              "        40,  41,  42,  43,  44,  45,  46,  47,  48,  49,  50,  51,  52,\n",
              "        53,  54,  55,  56,  57,  58,  59,  60,  61,  62,  63,  64,  65,\n",
              "        66,  67,  68,  69,  70,  71,  72,  73,  74,  75,  76,  77,  78,\n",
              "        79,  80,  81,  82,  83,  84,  85,  86,  87,  88,  89,  90,  91,\n",
              "        92,  93,  94,  95,  96,  97,  98,  99, 100])"
            ]
          },
          "metadata": {},
          "execution_count": 34
        }
      ]
    },
    {
      "cell_type": "code",
      "source": [
        "print(np.mean(a))\n",
        "print(np.std(a).round(3))"
      ],
      "metadata": {
        "colab": {
          "base_uri": "https://localhost:8080/"
        },
        "id": "tBw0Qc_lsN3j",
        "outputId": "9dce8b46-4f3d-444b-a7dd-15204742f03a"
      },
      "execution_count": null,
      "outputs": [
        {
          "output_type": "stream",
          "name": "stdout",
          "text": [
            "50.5\n",
            "28.866\n"
          ]
        }
      ]
    },
    {
      "cell_type": "markdown",
      "source": [
        "### Indexing and Slicing"
      ],
      "metadata": {
        "id": "i9ILVY-2rFZC"
      }
    },
    {
      "cell_type": "markdown",
      "source": [
        "8. Array Slicing: Create a 6x6 matrix of consecutive numbers starting from 1. Use slicing to extract a 3x3 submatrix from it."
      ],
      "metadata": {
        "id": "RDMDtMZ7sj67"
      }
    },
    {
      "cell_type": "code",
      "source": [
        "a = np.arange(1,37).reshape(6,6)\n",
        "a"
      ],
      "metadata": {
        "colab": {
          "base_uri": "https://localhost:8080/"
        },
        "id": "oiEWSRLdrs-Y",
        "outputId": "6beced25-7004-48cf-b641-92427bb475e5"
      },
      "execution_count": null,
      "outputs": [
        {
          "output_type": "execute_result",
          "data": {
            "text/plain": [
              "array([[ 1,  2,  3,  4,  5,  6],\n",
              "       [ 7,  8,  9, 10, 11, 12],\n",
              "       [13, 14, 15, 16, 17, 18],\n",
              "       [19, 20, 21, 22, 23, 24],\n",
              "       [25, 26, 27, 28, 29, 30],\n",
              "       [31, 32, 33, 34, 35, 36]])"
            ]
          },
          "metadata": {},
          "execution_count": 37
        }
      ]
    },
    {
      "cell_type": "code",
      "source": [
        "a[0:3,0:3]"
      ],
      "metadata": {
        "colab": {
          "base_uri": "https://localhost:8080/"
        },
        "id": "tZaKAHgAsnlQ",
        "outputId": "058e5020-6fdf-4b68-b5a0-b3ed34344d16"
      },
      "execution_count": null,
      "outputs": [
        {
          "output_type": "execute_result",
          "data": {
            "text/plain": [
              "array([[ 1,  2,  3],\n",
              "       [ 7,  8,  9],\n",
              "       [13, 14, 15]])"
            ]
          },
          "metadata": {},
          "execution_count": 39
        }
      ]
    },
    {
      "cell_type": "markdown",
      "source": [
        "9. Fancy Indexing: Create a 1D array with values ranging from 0 to 15. Extract the elements at index positions [2, 5, 7, 10]."
      ],
      "metadata": {
        "id": "yBDvPL0ptXdP"
      }
    },
    {
      "cell_type": "code",
      "source": [
        "a = np.arange(15,26)\n",
        "a"
      ],
      "metadata": {
        "colab": {
          "base_uri": "https://localhost:8080/"
        },
        "id": "x4aGvjvTs0F9",
        "outputId": "73612512-e692-4531-a555-d2bb16cddf17"
      },
      "execution_count": null,
      "outputs": [
        {
          "output_type": "execute_result",
          "data": {
            "text/plain": [
              "array([15, 16, 17, 18, 19, 20, 21, 22, 23, 24, 25])"
            ]
          },
          "metadata": {},
          "execution_count": 42
        }
      ]
    },
    {
      "cell_type": "code",
      "source": [
        "a[[2,5,7,10]]"
      ],
      "metadata": {
        "colab": {
          "base_uri": "https://localhost:8080/"
        },
        "id": "6e39l6qas5yL",
        "outputId": "9fed9f42-c14b-4963-c4d1-48ba1c5fa0be"
      },
      "execution_count": null,
      "outputs": [
        {
          "output_type": "execute_result",
          "data": {
            "text/plain": [
              "array([17, 20, 22, 25])"
            ]
          },
          "metadata": {},
          "execution_count": 43
        }
      ]
    },
    {
      "cell_type": "markdown",
      "source": [
        "10. Set Specific Elements: Set all elements in an array greater than a specific value to zero. For example, set all elements greater than 10 to zero in a 4x4 matrix filled with random values.\n"
      ],
      "metadata": {
        "id": "KA02Yorgvmi9"
      }
    },
    {
      "cell_type": "code",
      "source": [
        "a = np.arange(1,17).reshape(4,4)\n",
        "print(a)\n",
        "print(' ')\n",
        "\n",
        "a[a>10] = 0\n",
        "print(a)"
      ],
      "metadata": {
        "colab": {
          "base_uri": "https://localhost:8080/"
        },
        "id": "QjFW22nUteRI",
        "outputId": "ca178a4e-b611-45d8-dd4d-07021b165a1a"
      },
      "execution_count": null,
      "outputs": [
        {
          "output_type": "stream",
          "name": "stdout",
          "text": [
            "[[ 1  2  3  4]\n",
            " [ 5  6  7  8]\n",
            " [ 9 10 11 12]\n",
            " [13 14 15 16]]\n",
            " \n",
            "[[ 1  2  3  4]\n",
            " [ 5  6  7  8]\n",
            " [ 9 10  0  0]\n",
            " [ 0  0  0  0]]\n"
          ]
        }
      ]
    },
    {
      "cell_type": "markdown",
      "source": [
        "### Aggregation Functions"
      ],
      "metadata": {
        "id": "jnO_fyPPrH4F"
      }
    },
    {
      "cell_type": "markdown",
      "source": [
        "11. Sum and Product: Create a 2D array with random integers between 1 and 10. Compute the sum along the rows and the product along the columns.\n"
      ],
      "metadata": {
        "id": "rZiBHlqwvpl2"
      }
    },
    {
      "cell_type": "code",
      "source": [
        "a = np.random.randint(1,10, size =(2,2))\n",
        "print(a)\n",
        "print(' ')\n",
        "\n",
        "print(np.sum(a,axis = 0))\n"
      ],
      "metadata": {
        "colab": {
          "base_uri": "https://localhost:8080/"
        },
        "id": "Tk0qKANnvuNj",
        "outputId": "49f05d91-5bd6-471d-c32e-26cbbb75873f"
      },
      "execution_count": null,
      "outputs": [
        {
          "output_type": "stream",
          "name": "stdout",
          "text": [
            "[[5 8]\n",
            " [6 5]]\n",
            " \n",
            "[11 13]\n"
          ]
        }
      ]
    },
    {
      "cell_type": "code",
      "source": [
        "print(np.prod(a, axis = 1))"
      ],
      "metadata": {
        "colab": {
          "base_uri": "https://localhost:8080/"
        },
        "id": "oL2Ze1jpw4HY",
        "outputId": "1892ca58-29f6-4754-b6ba-8911b9aba4f4"
      },
      "execution_count": null,
      "outputs": [
        {
          "output_type": "stream",
          "name": "stdout",
          "text": [
            "[40 30]\n"
          ]
        }
      ]
    },
    {
      "cell_type": "markdown",
      "source": [
        "12. Min and Max: Create an array of 20 random numbers. Find the minimum and maximum values, and the indices where they occur."
      ],
      "metadata": {
        "id": "KWwtjLKMx1pW"
      }
    },
    {
      "cell_type": "code",
      "source": [
        "a = np.random.randint(21, size = 11)\n",
        "print(a)"
      ],
      "metadata": {
        "colab": {
          "base_uri": "https://localhost:8080/"
        },
        "id": "BUwQv_YHxVNr",
        "outputId": "6c86f8c7-28f0-40f6-ff6b-1ac284ccbd0c"
      },
      "execution_count": null,
      "outputs": [
        {
          "output_type": "stream",
          "name": "stdout",
          "text": [
            "[20  6  0  1 11  9 19 20 10  3  6]\n"
          ]
        }
      ]
    },
    {
      "cell_type": "code",
      "source": [
        "print(min(a))\n",
        "print(max(a))"
      ],
      "metadata": {
        "colab": {
          "base_uri": "https://localhost:8080/"
        },
        "id": "h7uDNDf_xfyU",
        "outputId": "72a5d93d-a341-4956-e169-9b39b352fb8f"
      },
      "execution_count": null,
      "outputs": [
        {
          "output_type": "stream",
          "name": "stdout",
          "text": [
            "0\n",
            "20\n"
          ]
        }
      ]
    },
    {
      "cell_type": "markdown",
      "source": [
        "### Linear Algebra"
      ],
      "metadata": {
        "id": "Ph0Q44XlrLWH"
      }
    },
    {
      "cell_type": "markdown",
      "source": [
        "13 .Matrix Multiplication: Given two compatible 2D matrices A (3x2) and B (2x3), compute their matrix product."
      ],
      "metadata": {
        "id": "6h7A182PykT6"
      }
    },
    {
      "cell_type": "code",
      "source": [
        "a = np.random.randint(0,6, size =(3,2))\n",
        "b = np.random.randint(0,6, size =(2,3))\n",
        "print(a)\n",
        "print(b)"
      ],
      "metadata": {
        "colab": {
          "base_uri": "https://localhost:8080/"
        },
        "id": "QeQeZ9NnyG4i",
        "outputId": "b452bc12-2707-4d5d-f49d-4a5706f62395"
      },
      "execution_count": null,
      "outputs": [
        {
          "output_type": "stream",
          "name": "stdout",
          "text": [
            "[[4 4]\n",
            " [1 5]\n",
            " [0 4]]\n",
            "[[1 1 5]\n",
            " [1 1 3]]\n"
          ]
        }
      ]
    },
    {
      "cell_type": "code",
      "source": [
        "np.dot(a,b)"
      ],
      "metadata": {
        "colab": {
          "base_uri": "https://localhost:8080/"
        },
        "id": "TLOuiFfpyZO2",
        "outputId": "819240db-c2c2-4013-a03d-b71e3e030ba2"
      },
      "execution_count": null,
      "outputs": [
        {
          "output_type": "execute_result",
          "data": {
            "text/plain": [
              "array([[ 8,  8, 32],\n",
              "       [ 6,  6, 20],\n",
              "       [ 4,  4, 12]])"
            ]
          },
          "metadata": {},
          "execution_count": 99
        }
      ]
    },
    {
      "cell_type": "markdown",
      "source": [
        "14. Determinant and Inverse: Create a 3x3 matrix and compute its determinant. If it's non-zero, find its inverse."
      ],
      "metadata": {
        "id": "h9CnnV6WymyL"
      }
    },
    {
      "cell_type": "code",
      "source": [
        "a = np.random.randint(0,10, size =(3,3))\n",
        "a"
      ],
      "metadata": {
        "colab": {
          "base_uri": "https://localhost:8080/"
        },
        "id": "hHjfk1iryoet",
        "outputId": "ca969587-2f83-4d14-ebb8-323c9008bc67"
      },
      "execution_count": null,
      "outputs": [
        {
          "output_type": "execute_result",
          "data": {
            "text/plain": [
              "array([[1, 5, 4],\n",
              "       [6, 8, 1],\n",
              "       [4, 5, 7]])"
            ]
          },
          "metadata": {},
          "execution_count": 100
        }
      ]
    },
    {
      "cell_type": "code",
      "source": [
        "np.linalg.inv(a)"
      ],
      "metadata": {
        "colab": {
          "base_uri": "https://localhost:8080/"
        },
        "id": "kqm3loL4ywGT",
        "outputId": "9aeb260f-d76a-4f8d-d268-f36c38eb5b1b"
      },
      "execution_count": null,
      "outputs": [
        {
          "output_type": "execute_result",
          "data": {
            "text/plain": [
              "array([[-0.34693878,  0.10204082,  0.18367347],\n",
              "       [ 0.2585034 ,  0.06122449, -0.15646259],\n",
              "       [ 0.01360544, -0.10204082,  0.14965986]])"
            ]
          },
          "metadata": {},
          "execution_count": 104
        }
      ]
    },
    {
      "cell_type": "code",
      "source": [
        "np.linalg.det(a)"
      ],
      "metadata": {
        "colab": {
          "base_uri": "https://localhost:8080/"
        },
        "id": "XdweHlKszXd0",
        "outputId": "a209037c-105e-4bbc-e7c3-a79809e7ed89"
      },
      "execution_count": null,
      "outputs": [
        {
          "output_type": "execute_result",
          "data": {
            "text/plain": [
              "-146.99999999999997"
            ]
          },
          "metadata": {},
          "execution_count": 105
        }
      ]
    },
    {
      "cell_type": "code",
      "source": [
        "a = np.random.randint(0,10, size =(2,2))\n",
        "a"
      ],
      "metadata": {
        "colab": {
          "base_uri": "https://localhost:8080/"
        },
        "id": "rr4SfzO1zjFW",
        "outputId": "81db813f-9495-4168-9a7c-47db52a46631"
      },
      "execution_count": null,
      "outputs": [
        {
          "output_type": "execute_result",
          "data": {
            "text/plain": [
              "array([[1, 3],\n",
              "       [4, 2]])"
            ]
          },
          "metadata": {},
          "execution_count": 107
        }
      ]
    },
    {
      "cell_type": "code",
      "source": [
        "np.linalg.eigvals(a)"
      ],
      "metadata": {
        "colab": {
          "base_uri": "https://localhost:8080/"
        },
        "id": "JUWSbxxHz5li",
        "outputId": "0cfa7de7-b471-4159-a652-d5bb98c73637"
      },
      "execution_count": null,
      "outputs": [
        {
          "output_type": "execute_result",
          "data": {
            "text/plain": [
              "array([-2.,  5.])"
            ]
          },
          "metadata": {},
          "execution_count": 108
        }
      ]
    },
    {
      "cell_type": "code",
      "source": [
        "np.linalg.eig(a)"
      ],
      "metadata": {
        "colab": {
          "base_uri": "https://localhost:8080/"
        },
        "id": "u4G4MJHIz9ia",
        "outputId": "4eddf526-6442-405e-bd33-9a45666774d1"
      },
      "execution_count": null,
      "outputs": [
        {
          "output_type": "execute_result",
          "data": {
            "text/plain": [
              "EigResult(eigenvalues=array([-2.,  5.]), eigenvectors=array([[-0.70710678, -0.6       ],\n",
              "       [ 0.70710678, -0.8       ]]))"
            ]
          },
          "metadata": {},
          "execution_count": 111
        }
      ]
    },
    {
      "cell_type": "markdown",
      "source": [
        "### Reshaping and Concatenation"
      ],
      "metadata": {
        "id": "sdFVWMaxrOsl"
      }
    },
    {
      "cell_type": "markdown",
      "source": [
        "16. Flattening an Array: Create a 4x4 matrix and flatten it into a 1D array."
      ],
      "metadata": {
        "id": "vVoHSo7-3MNY"
      }
    },
    {
      "cell_type": "code",
      "source": [
        "a = np.random.randint(0,10, size =(4,4))\n",
        "a"
      ],
      "metadata": {
        "colab": {
          "base_uri": "https://localhost:8080/"
        },
        "id": "6y44nvKB2_G-",
        "outputId": "67297ee1-f067-4bbe-d42e-644cf7a1a989"
      },
      "execution_count": null,
      "outputs": [
        {
          "output_type": "execute_result",
          "data": {
            "text/plain": [
              "array([[5, 3, 5, 2],\n",
              "       [3, 4, 7, 1],\n",
              "       [6, 2, 7, 7],\n",
              "       [9, 1, 2, 5]])"
            ]
          },
          "metadata": {},
          "execution_count": 112
        }
      ]
    },
    {
      "cell_type": "code",
      "source": [
        "np.ravel(a)"
      ],
      "metadata": {
        "colab": {
          "base_uri": "https://localhost:8080/"
        },
        "id": "3_ikMGQl3D_m",
        "outputId": "7248f5af-0363-4279-eca9-48498871446c"
      },
      "execution_count": null,
      "outputs": [
        {
          "output_type": "execute_result",
          "data": {
            "text/plain": [
              "array([5, 3, 5, 2, 3, 4, 7, 1, 6, 2, 7, 7, 9, 1, 2, 5])"
            ]
          },
          "metadata": {},
          "execution_count": 113
        }
      ]
    },
    {
      "cell_type": "code",
      "source": [
        "a = np.random.randint(0,10, size =(2,3))\n",
        "b = np.random.randint(0,10, size =(2,3))\n",
        "print(a)\n",
        "print('')\n",
        "print(b)\n"
      ],
      "metadata": {
        "colab": {
          "base_uri": "https://localhost:8080/"
        },
        "id": "Z0BSMNZH3fn_",
        "outputId": "ce06d985-51b9-45a5-84c7-d5cca9a00169"
      },
      "execution_count": null,
      "outputs": [
        {
          "output_type": "stream",
          "name": "stdout",
          "text": [
            "[[1 8 0]\n",
            " [8 6 9]]\n",
            "\n",
            "[[5 9 1]\n",
            " [2 7 1]]\n"
          ]
        }
      ]
    },
    {
      "cell_type": "markdown",
      "source": [
        "17 .Concatenate Arrays: Create two 2D arrays of size 2x3. Concatenate them along the axis 0 and then along the axis 1."
      ],
      "metadata": {
        "id": "MF_6F-bpE-F9"
      }
    },
    {
      "cell_type": "code",
      "source": [
        "c = np.concatenate((a,b), axis = 0)\n",
        "c"
      ],
      "metadata": {
        "colab": {
          "base_uri": "https://localhost:8080/"
        },
        "id": "jAq8iWnY3qYQ",
        "outputId": "1377f04b-147c-495d-fc6e-29980ef0362f"
      },
      "execution_count": null,
      "outputs": [
        {
          "output_type": "execute_result",
          "data": {
            "text/plain": [
              "array([[1, 8, 0],\n",
              "       [8, 6, 9],\n",
              "       [5, 9, 1],\n",
              "       [2, 7, 1]])"
            ]
          },
          "metadata": {},
          "execution_count": 118
        }
      ]
    },
    {
      "cell_type": "code",
      "source": [
        "c.shape"
      ],
      "metadata": {
        "colab": {
          "base_uri": "https://localhost:8080/"
        },
        "id": "NN8LzH9G4K_T",
        "outputId": "f41b7378-3f0a-4b06-ddc9-e041013a0940"
      },
      "execution_count": null,
      "outputs": [
        {
          "output_type": "execute_result",
          "data": {
            "text/plain": [
              "(4, 3)"
            ]
          },
          "metadata": {},
          "execution_count": 119
        }
      ]
    },
    {
      "cell_type": "code",
      "source": [
        "np.concatenate((a,b), axis = 1)"
      ],
      "metadata": {
        "colab": {
          "base_uri": "https://localhost:8080/"
        },
        "id": "x1nuwQKB32uZ",
        "outputId": "4e768740-5f2a-41f5-b751-8fca72d65434"
      },
      "execution_count": null,
      "outputs": [
        {
          "output_type": "execute_result",
          "data": {
            "text/plain": [
              "array([[1, 8, 0, 5, 9, 1],\n",
              "       [8, 6, 9, 2, 7, 1]])"
            ]
          },
          "metadata": {},
          "execution_count": 117
        }
      ]
    },
    {
      "cell_type": "markdown",
      "source": [
        "### Random Sampling and Distribution\n"
      ],
      "metadata": {
        "id": "6CXJZUPzrWxR"
      }
    },
    {
      "cell_type": "code",
      "source": [
        "a = np.random.randint(1,50, 50)\n",
        "a"
      ],
      "metadata": {
        "colab": {
          "base_uri": "https://localhost:8080/"
        },
        "id": "NoTQpbyqqktm",
        "outputId": "28e2b9b4-52b4-4fcf-ddb0-b0e6c47c407e"
      },
      "execution_count": null,
      "outputs": [
        {
          "output_type": "execute_result",
          "data": {
            "text/plain": [
              "array([19,  2,  8,  9,  7, 28, 45, 28, 16, 36,  8,  6, 12, 48,  7, 46,  4,\n",
              "        2, 46, 10, 25, 39, 13, 19, 46, 42, 19,  5, 39, 16, 29, 23,  1, 21,\n",
              "        4, 12, 35, 43,  8, 34, 11, 10, 10, 21, 32, 25, 39, 47, 31, 33])"
            ]
          },
          "metadata": {},
          "execution_count": 125
        }
      ]
    },
    {
      "cell_type": "code",
      "source": [
        "b = np.random.choice(a, size = 10)\n",
        "b"
      ],
      "metadata": {
        "colab": {
          "base_uri": "https://localhost:8080/"
        },
        "id": "O2ET1xnrFUHS",
        "outputId": "cf2d175d-92cd-417a-9975-e220ec6f68d8"
      },
      "execution_count": null,
      "outputs": [
        {
          "output_type": "execute_result",
          "data": {
            "text/plain": [
              "array([28, 29, 12, 23, 32, 19,  8, 48, 28, 10])"
            ]
          },
          "metadata": {},
          "execution_count": 127
        }
      ]
    },
    {
      "cell_type": "code",
      "source": [
        "b = np.random.choice(a, size = 10, replace = True)\n",
        "b"
      ],
      "metadata": {
        "colab": {
          "base_uri": "https://localhost:8080/"
        },
        "id": "enBTmNx9FmG9",
        "outputId": "74e06b59-5c5c-481f-a52b-0f9bb7d4aacf"
      },
      "execution_count": null,
      "outputs": [
        {
          "output_type": "execute_result",
          "data": {
            "text/plain": [
              "array([35,  1, 12, 12,  5, 10, 12, 16,  4,  7])"
            ]
          },
          "metadata": {},
          "execution_count": 128
        }
      ]
    },
    {
      "cell_type": "code",
      "source": [
        "a = np.random.randint(26,size = (5,5))\n",
        "a"
      ],
      "metadata": {
        "colab": {
          "base_uri": "https://localhost:8080/"
        },
        "id": "DrifY7x-F_ky",
        "outputId": "1bee557a-6c88-4e15-bb8b-5facff729c05"
      },
      "execution_count": null,
      "outputs": [
        {
          "output_type": "execute_result",
          "data": {
            "text/plain": [
              "array([[12, 12,  3, 21, 16],\n",
              "       [ 1, 21, 21,  4, 12],\n",
              "       [19, 10, 13, 22, 20],\n",
              "       [ 0, 10, 13,  0,  9],\n",
              "       [ 1, 16,  3,  5, 22]])"
            ]
          },
          "metadata": {},
          "execution_count": 147
        }
      ]
    },
    {
      "cell_type": "code",
      "source": [
        "# shuffle the rows\n",
        "np.random.shuffle(a)\n",
        "print(a)"
      ],
      "metadata": {
        "colab": {
          "base_uri": "https://localhost:8080/"
        },
        "id": "o3Wa4k_HGQNs",
        "outputId": "22e8793c-7d66-4644-df8e-805d8c070afb"
      },
      "execution_count": null,
      "outputs": [
        {
          "output_type": "stream",
          "name": "stdout",
          "text": [
            "[[ 1 21 21  4 12]\n",
            " [12 12  3 21 16]\n",
            " [19 10 13 22 20]\n",
            " [ 1 16  3  5 22]\n",
            " [ 0 10 13  0  9]]\n"
          ]
        }
      ]
    },
    {
      "cell_type": "code",
      "source": [
        "# shuffle the columns\n",
        "np.random.shuffle(a.T)\n",
        "a"
      ],
      "metadata": {
        "colab": {
          "base_uri": "https://localhost:8080/"
        },
        "id": "H124VhmnGZSP",
        "outputId": "1eb59017-dc2e-4536-9c83-b3585bed4c10"
      },
      "execution_count": null,
      "outputs": [
        {
          "output_type": "execute_result",
          "data": {
            "text/plain": [
              "array([[12, 21, 21,  4,  1],\n",
              "       [16,  3, 12, 21, 12],\n",
              "       [20, 13, 10, 22, 19],\n",
              "       [22,  3, 16,  5,  1],\n",
              "       [ 9, 13, 10,  0,  0]])"
            ]
          },
          "metadata": {},
          "execution_count": 151
        }
      ]
    },
    {
      "cell_type": "markdown",
      "source": [
        "### Advanced Operations"
      ],
      "metadata": {
        "id": "Jvd4jSJnH6TK"
      }
    },
    {
      "cell_type": "markdown",
      "source": [
        "20. Sorting: Create a 1D array with 10 random integers from 1 to 100. Sort the array in descending order.\n"
      ],
      "metadata": {
        "id": "crKeC8uAH9nx"
      }
    },
    {
      "cell_type": "code",
      "source": [
        "a = np.random.randint(1,100,10)\n",
        "print(a)\n",
        "print('')\n",
        "\n",
        "np.sort(a)"
      ],
      "metadata": {
        "colab": {
          "base_uri": "https://localhost:8080/"
        },
        "id": "VpDhM5Z2G7mj",
        "outputId": "c7842739-17e5-4654-e320-e8328dc543fa"
      },
      "execution_count": null,
      "outputs": [
        {
          "output_type": "stream",
          "name": "stdout",
          "text": [
            "[89 90 70 94 67 70 79 61 13 72]\n",
            "\n"
          ]
        },
        {
          "output_type": "execute_result",
          "data": {
            "text/plain": [
              "array([13, 61, 67, 70, 70, 72, 79, 89, 90, 94])"
            ]
          },
          "metadata": {},
          "execution_count": 159
        }
      ]
    },
    {
      "cell_type": "markdown",
      "source": [
        "21. Unique Elements: Create a 1D array with some duplicate values. Find the unique elements in the array and count their occurrences.\n"
      ],
      "metadata": {
        "id": "Mb6B4YtiI3vd"
      }
    },
    {
      "cell_type": "code",
      "source": [
        "a = [1,2,3,4,4,5,5,7,8,9,11]\n",
        "np.unique(a)"
      ],
      "metadata": {
        "colab": {
          "base_uri": "https://localhost:8080/"
        },
        "id": "rjoNbLFvIGGh",
        "outputId": "6fc25a01-8135-4aed-e58b-ccb342718802"
      },
      "execution_count": null,
      "outputs": [
        {
          "output_type": "execute_result",
          "data": {
            "text/plain": [
              "array([ 1,  2,  3,  4,  5,  7,  8,  9, 11])"
            ]
          },
          "metadata": {},
          "execution_count": 160
        }
      ]
    },
    {
      "cell_type": "markdown",
      "source": [
        "22. Matrix Rotation: Create a 3x3 matrix and rotate it by 90 degrees clockwise.\n"
      ],
      "metadata": {
        "id": "F4khMIbhI9Te"
      }
    },
    {
      "cell_type": "code",
      "source": [
        "a = np.random.randint(1,11, size = (3,3))\n",
        "print(a)\n"
      ],
      "metadata": {
        "colab": {
          "base_uri": "https://localhost:8080/"
        },
        "id": "HlXTA62PI2uI",
        "outputId": "91459013-dbb0-43b9-a85b-369de24dc7fb"
      },
      "execution_count": null,
      "outputs": [
        {
          "output_type": "stream",
          "name": "stdout",
          "text": [
            "[[ 3  4  7]\n",
            " [ 8  2 10]\n",
            " [ 3  8  6]]\n"
          ]
        }
      ]
    },
    {
      "cell_type": "code",
      "source": [
        "np.rot90(a)"
      ],
      "metadata": {
        "colab": {
          "base_uri": "https://localhost:8080/"
        },
        "id": "zWH81sPbJHR6",
        "outputId": "9cb28d78-8a7a-4b1d-cec3-649b5ff600b5"
      },
      "execution_count": null,
      "outputs": [
        {
          "output_type": "execute_result",
          "data": {
            "text/plain": [
              "array([[ 7, 10,  6],\n",
              "       [ 4,  2,  8],\n",
              "       [ 3,  8,  3]])"
            ]
          },
          "metadata": {},
          "execution_count": 170
        }
      ]
    },
    {
      "cell_type": "markdown",
      "source": [
        "23. Vectorized Conditional Operations: Given a 1D array of integers, replace all negative values with 0, and all values greater than 10 with 10.\n"
      ],
      "metadata": {
        "id": "4CJCGe-kJryf"
      }
    },
    {
      "cell_type": "code",
      "source": [
        "a = np.random.randint(-100,100, size = (20))\n",
        "print(a)"
      ],
      "metadata": {
        "colab": {
          "base_uri": "https://localhost:8080/"
        },
        "id": "HVKwSmvvJlno",
        "outputId": "50246bc3-0362-4718-9ab8-99bd1b0879dc"
      },
      "execution_count": null,
      "outputs": [
        {
          "output_type": "stream",
          "name": "stdout",
          "text": [
            "[-59  77 -37  23  90  21  -1 -70  65 -94  15 -73 -86 -21  85  83  92   4\n",
            "  77  92]\n"
          ]
        }
      ]
    },
    {
      "cell_type": "code",
      "source": [
        "a[a<0]= 0\n",
        "a[a>10]= 10\n",
        "print(a)"
      ],
      "metadata": {
        "colab": {
          "base_uri": "https://localhost:8080/"
        },
        "id": "_OB8KK4DJ1iI",
        "outputId": "9357dd18-12fd-4d70-8bc5-72fa252ea50e"
      },
      "execution_count": null,
      "outputs": [
        {
          "output_type": "stream",
          "name": "stdout",
          "text": [
            "[ 0 10  0 10 10 10  0  0 10  0 10  0  0  0 10 10 10  4 10 10]\n"
          ]
        }
      ]
    },
    {
      "cell_type": "markdown",
      "source": [
        "24. Normalization: Generate a 1D array of 10 random values. Normalize this array so that all values are between 0 and 1."
      ],
      "metadata": {
        "id": "ui3SWwCGMkXU"
      }
    },
    {
      "cell_type": "code",
      "source": [
        "a = np.random.randint(1,100,12)\n",
        "a"
      ],
      "metadata": {
        "colab": {
          "base_uri": "https://localhost:8080/"
        },
        "id": "TedrqKFpKsA3",
        "outputId": "8c34d0f7-b651-45d1-c3e5-de35b6de649e"
      },
      "execution_count": null,
      "outputs": [
        {
          "output_type": "execute_result",
          "data": {
            "text/plain": [
              "array([98, 41, 47, 59, 69, 27, 77, 63,  2, 48, 31, 35])"
            ]
          },
          "metadata": {},
          "execution_count": 192
        }
      ]
    },
    {
      "cell_type": "code",
      "source": [
        "normalized_array = (a-np.min(a))/(np.max(a)-np.min(a))\n",
        "normalized_array"
      ],
      "metadata": {
        "colab": {
          "base_uri": "https://localhost:8080/"
        },
        "id": "Iz0F_xMYL3qi",
        "outputId": "07150844-8f5a-40f1-8856-0abe684c568c"
      },
      "execution_count": null,
      "outputs": [
        {
          "output_type": "execute_result",
          "data": {
            "text/plain": [
              "array([1.        , 0.40625   , 0.46875   , 0.59375   , 0.69791667,\n",
              "       0.26041667, 0.78125   , 0.63541667, 0.        , 0.47916667,\n",
              "       0.30208333, 0.34375   ])"
            ]
          },
          "metadata": {},
          "execution_count": 197
        }
      ]
    },
    {
      "cell_type": "markdown",
      "source": [
        "### Challenge problems"
      ],
      "metadata": {
        "id": "BIBYxqq7Ms7i"
      }
    },
    {
      "cell_type": "code",
      "source": [
        "x = np.linspace(-10,10,100)\n",
        "y = 2*x**2 + 3*x + 1 + np.random.normal(0, 10, 100)"
      ],
      "metadata": {
        "id": "URLiY7vQOLLZ"
      },
      "execution_count": null,
      "outputs": []
    },
    {
      "cell_type": "code",
      "source": [
        "coefficients = np.polyfit(x,y,2)\n",
        "coefficients"
      ],
      "metadata": {
        "colab": {
          "base_uri": "https://localhost:8080/"
        },
        "id": "ogjLwXUAP_9V",
        "outputId": "a8b8d997-075f-4e65-f267-11e4f3510a62"
      },
      "execution_count": null,
      "outputs": [
        {
          "output_type": "execute_result",
          "data": {
            "text/plain": [
              "array([2.0075256 , 2.94761233, 0.61804434])"
            ]
          },
          "metadata": {},
          "execution_count": 243
        }
      ]
    },
    {
      "cell_type": "code",
      "source": [
        "# create a polynomial function from the coefficients\n",
        "poly = np.poly1d(coefficients)\n",
        "poly"
      ],
      "metadata": {
        "colab": {
          "base_uri": "https://localhost:8080/"
        },
        "id": "huc5tjtIRI3c",
        "outputId": "28174e91-4205-4697-809f-ad1eb355d151"
      },
      "execution_count": null,
      "outputs": [
        {
          "output_type": "execute_result",
          "data": {
            "text/plain": [
              "poly1d([2.0075256 , 2.94761233, 0.61804434])"
            ]
          },
          "metadata": {},
          "execution_count": 244
        }
      ]
    },
    {
      "cell_type": "code",
      "source": [
        "# Generate y values using the polynomial function\n",
        "y_fit = poly(x)"
      ],
      "metadata": {
        "id": "98UvyTjqRTvj"
      },
      "execution_count": null,
      "outputs": []
    },
    {
      "cell_type": "code",
      "source": [
        "plt.scatter(x,y, alpha = 0.5,label = 'data points')\n",
        "plt.plot(x,y_fit, color = 'red', label = 'line of best fit')\n",
        "plt.xlabel('x')\n",
        "plt.ylabel('y')\n",
        "plt.title('Scatter Plot of y vs x')\n",
        "plt.show()"
      ],
      "metadata": {
        "colab": {
          "base_uri": "https://localhost:8080/",
          "height": 472
        },
        "id": "pKafGPh9PiLL",
        "outputId": "2555c54f-b2ec-49ed-954f-04495584872c"
      },
      "execution_count": null,
      "outputs": [
        {
          "output_type": "display_data",
          "data": {
            "text/plain": [
              "<Figure size 640x480 with 1 Axes>"
            ],
            "image/png": "[encoded data removed]"
          },
          "metadata": {}
        }
      ]
    },
    {
      "cell_type": "markdown",
      "source": [
        "26. Image Manipulation: Generate a 10x10 matrix of random values representing an image. Find the coordinates of the brightest spot in the \"image\" (the maximum value).\n"
      ],
      "metadata": {
        "id": "wBRAZxUcUZ0x"
      }
    },
    {
      "cell_type": "code",
      "source": [
        "image_pixel = np.random.random(size = (10,10))\n",
        "image_pixel"
      ],
      "metadata": {
        "colab": {
          "base_uri": "https://localhost:8080/"
        },
        "id": "UPpmdRXGQWw4",
        "outputId": "8bd3905b-e020-4b93-f8c7-fb1c52514510"
      },
      "execution_count": null,
      "outputs": [
        {
          "output_type": "execute_result",
          "data": {
            "text/plain": [
              "array([[5.12577135e-01, 9.56279312e-01, 5.72587921e-02, 3.91177493e-01,\n",
              "        6.88790593e-01, 2.09656094e-01, 2.31169728e-01, 3.93628564e-01,\n",
              "        7.87938826e-01, 8.78271711e-01],\n",
              "       [7.86262826e-01, 4.73194987e-01, 2.94351464e-01, 8.03696855e-01,\n",
              "        9.35306007e-01, 2.80222744e-01, 7.62258281e-01, 9.68831056e-02,\n",
              "        2.65857519e-01, 2.33575088e-01],\n",
              "       [1.67014664e-01, 3.03188007e-01, 1.56761923e-01, 4.42467634e-01,\n",
              "        1.93188093e-01, 3.46289770e-01, 3.63822544e-01, 2.92617099e-01,\n",
              "        2.60843993e-01, 8.76923559e-01],\n",
              "       [3.94191000e-01, 8.24030855e-01, 7.02210084e-01, 6.44751038e-01,\n",
              "        2.52330088e-01, 6.96112812e-01, 2.51830907e-01, 8.51280897e-01,\n",
              "        5.56877702e-02, 1.51087177e-01],\n",
              "       [4.34575651e-01, 1.06921188e-02, 7.04401174e-02, 2.34287293e-01,\n",
              "        9.58881602e-01, 5.74509951e-01, 3.97121394e-02, 5.61297515e-01,\n",
              "        6.48562976e-03, 9.72326654e-01],\n",
              "       [1.15965404e-01, 5.92060498e-01, 1.46191408e-01, 2.68875859e-01,\n",
              "        2.28289808e-01, 3.33681936e-01, 8.28010528e-03, 3.64484703e-02,\n",
              "        1.22150544e-02, 5.30625890e-01],\n",
              "       [4.69515010e-01, 7.22259457e-01, 2.62894810e-01, 7.04081483e-02,\n",
              "        1.28686436e-01, 6.36073687e-04, 2.04904618e-01, 6.88234209e-01,\n",
              "        9.69586561e-01, 7.48322147e-01],\n",
              "       [8.86092460e-01, 9.93230742e-01, 9.01693238e-01, 2.72950934e-01,\n",
              "        6.55252214e-01, 5.02967035e-01, 6.46857197e-01, 4.24782582e-01,\n",
              "        7.33063525e-01, 2.45937722e-01],\n",
              "       [3.09857646e-01, 1.33943978e-01, 6.08441575e-01, 3.37617957e-01,\n",
              "        7.69471412e-01, 3.71632294e-01, 3.24142938e-01, 2.13429859e-01,\n",
              "        8.20977415e-01, 7.57017586e-01],\n",
              "       [9.07279218e-01, 2.97772774e-01, 5.48782519e-01, 6.70092967e-01,\n",
              "        2.63641598e-01, 6.96785571e-01, 6.81487963e-01, 4.19919282e-02,\n",
              "        7.53325054e-01, 5.17510333e-01]])"
            ]
          },
          "metadata": {},
          "execution_count": 252
        }
      ]
    },
    {
      "cell_type": "code",
      "source": [
        "np.max(image_pixel)"
      ],
      "metadata": {
        "colab": {
          "base_uri": "https://localhost:8080/"
        },
        "id": "1trvtOv2Sc9q",
        "outputId": "a58cbfbe-76bd-4dd0-fc9f-cd9fd344ab79"
      },
      "execution_count": null,
      "outputs": [
        {
          "output_type": "execute_result",
          "data": {
            "text/plain": [
              "0.9932307416818631"
            ]
          },
          "metadata": {},
          "execution_count": 253
        }
      ]
    },
    {
      "cell_type": "code",
      "source": [
        "brightest_pixel_loc = np.where(image_pixel == np.max(image_pixel))\n",
        "brightest_pixel_loc"
      ],
      "metadata": {
        "colab": {
          "base_uri": "https://localhost:8080/"
        },
        "id": "JJBPqfH9TodU",
        "outputId": "f0563048-de04-46a1-a37b-786159998d4d"
      },
      "execution_count": null,
      "outputs": [
        {
          "output_type": "execute_result",
          "data": {
            "text/plain": [
              "(array([7]), array([1]))"
            ]
          },
          "metadata": {},
          "execution_count": 259
        }
      ]
    },
    {
      "cell_type": "markdown",
      "source": [
        "27. Game of Life Setup: Create a 10x10 grid of zeros and randomly set a few cells to 1."
      ],
      "metadata": {
        "id": "5YS9pc0yYbIt"
      }
    },
    {
      "cell_type": "code",
      "source": [
        "a = np.zeros((10,10))\n",
        "a"
      ],
      "metadata": {
        "colab": {
          "base_uri": "https://localhost:8080/"
        },
        "id": "2eivg0GsTkUx",
        "outputId": "0dc266a8-b0c3-4a1d-ebbf-883833c9cddd"
      },
      "execution_count": null,
      "outputs": [
        {
          "output_type": "execute_result",
          "data": {
            "text/plain": [
              "array([[0., 0., 0., 0., 0., 0., 0., 0., 0., 0.],\n",
              "       [0., 0., 0., 0., 0., 0., 0., 0., 0., 0.],\n",
              "       [0., 0., 0., 0., 0., 0., 0., 0., 0., 0.],\n",
              "       [0., 0., 0., 0., 0., 0., 0., 0., 0., 0.],\n",
              "       [0., 0., 0., 0., 0., 0., 0., 0., 0., 0.],\n",
              "       [0., 0., 0., 0., 0., 0., 0., 0., 0., 0.],\n",
              "       [0., 0., 0., 0., 0., 0., 0., 0., 0., 0.],\n",
              "       [0., 0., 0., 0., 0., 0., 0., 0., 0., 0.],\n",
              "       [0., 0., 0., 0., 0., 0., 0., 0., 0., 0.],\n",
              "       [0., 0., 0., 0., 0., 0., 0., 0., 0., 0.]])"
            ]
          },
          "metadata": {},
          "execution_count": 261
        }
      ]
    },
    {
      "cell_type": "code",
      "source": [
        "a_flat = a.flatten()\n",
        "indexes = np.random.choice(len(a_flat), size = 10, replace = False)\n",
        "a_flat[indexes] = 1\n",
        "a = a_flat.reshape(10,10)\n",
        "print(a)"
      ],
      "metadata": {
        "colab": {
          "base_uri": "https://localhost:8080/"
        },
        "id": "Yre-qkvUVuKa",
        "outputId": "d1880134-2798-4fb8-ec1b-c42919e8fda9"
      },
      "execution_count": null,
      "outputs": [
        {
          "output_type": "stream",
          "name": "stdout",
          "text": [
            "[[0. 0. 0. 0. 0. 0. 0. 0. 0. 0.]\n",
            " [0. 0. 0. 1. 0. 0. 0. 1. 0. 0.]\n",
            " [0. 0. 0. 0. 0. 0. 0. 0. 0. 0.]\n",
            " [0. 0. 0. 0. 0. 0. 1. 0. 0. 0.]\n",
            " [0. 0. 0. 0. 0. 0. 0. 0. 0. 0.]\n",
            " [0. 0. 0. 0. 1. 0. 0. 0. 1. 0.]\n",
            " [0. 0. 0. 0. 0. 0. 0. 0. 0. 0.]\n",
            " [0. 0. 0. 0. 0. 0. 0. 0. 0. 1.]\n",
            " [1. 1. 0. 0. 1. 0. 0. 0. 1. 0.]\n",
            " [0. 0. 0. 0. 0. 0. 0. 0. 0. 0.]]\n"
          ]
        }
      ]
    },
    {
      "cell_type": "code",
      "source": [],
      "metadata": {
        "id": "QmribLDHX4Qd"
      },
      "execution_count": null,
      "outputs": []
    }
  ]
}